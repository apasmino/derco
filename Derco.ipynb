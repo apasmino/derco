{
 "cells": [
  {
   "cell_type": "markdown",
   "metadata": {
    "toc": "true"
   },
   "source": [
    "## Preferencia y recambio de automóviles en Chile.\n",
    "<div class=\"toc\" style=\"margin-top: 1em;\"><ul class=\"toc-item\" id=\"toc-level0\"></ul></div>"
   ]
  },
  {
   "cell_type": "markdown",
   "metadata": {},
   "source": [
    "##### Notebook desarrollado por Alfredo Pasmiño F.\n",
    "Agosto 2018"
   ]
  },
  {
   "cell_type": "markdown",
   "metadata": {},
   "source": [
    "## Metodología\n",
    "El siguiente análisis se realizó utilizando Python ver. 3.6. El objetivo es analizar el dataset y aplicar algunas técnicas de visualización y aprendizaje no supervisado para el agrupamiento de datos, así para finalmente sacar alguna conclusión.</p>\n",
    "El análisis comprende las siguientes etapas:\n",
    "\n",
    "1. Limpieza y exploración de datos\n",
    "2. Análisis de correspondencia\n",
    "3. Agrupamiento con KModes\n",
    "4. Conclusiones"
   ]
  },
  {
   "cell_type": "markdown",
   "metadata": {},
   "source": [
    "Las principales librerías utilizadas son Pandas, Numpy, Matplotlib y Seaborn"
   ]
  },
  {
   "cell_type": "code",
   "execution_count": 1,
   "metadata": {},
   "outputs": [],
   "source": [
    "import numpy as np\n",
    "import pandas as pd\n",
    "from matplotlib import pyplot as plt\n",
    "from IPython.display import display\n",
    "import seaborn as sns\n",
    "import warnings\n",
    "%matplotlib inline\n",
    "warnings.filterwarnings('ignore')"
   ]
  },
  {
   "cell_type": "markdown",
   "metadata": {},
   "source": [
    "## 1. Limpieza y Exploración de datos"
   ]
  },
  {
   "cell_type": "markdown",
   "metadata": {},
   "source": [
    "Primero cargamos en memoria el archivo .csv y lo transformamos en un Dataframe de Python."
   ]
  },
  {
   "cell_type": "code",
   "execution_count": 2,
   "metadata": {},
   "outputs": [],
   "source": [
    "#ruta del directorio\n",
    "ruta='C:/Users/apasmino/Documents/Python Scripts/'\n",
    "\n",
    "#leemos el archivo\n",
    "df=pd.read_csv(ruta+'bbdd_prueba_corp.csv', sep=';',  encoding = 'ISO-8859-1', decimal=',', header=0, na_values=' ')"
   ]
  },
  {
   "cell_type": "code",
   "execution_count": 3,
   "metadata": {},
   "outputs": [
    {
     "data": {
      "text/html": [
       "<div>\n",
       "<style scoped>\n",
       "    .dataframe tbody tr th:only-of-type {\n",
       "        vertical-align: middle;\n",
       "    }\n",
       "\n",
       "    .dataframe tbody tr th {\n",
       "        vertical-align: top;\n",
       "    }\n",
       "\n",
       "    .dataframe thead th {\n",
       "        text-align: right;\n",
       "    }\n",
       "</style>\n",
       "<table border=\"1\" class=\"dataframe\">\n",
       "  <thead>\n",
       "    <tr style=\"text-align: right;\">\n",
       "      <th></th>\n",
       "      <th>PATENTE</th>\n",
       "      <th>MARCA</th>\n",
       "      <th>MODELO</th>\n",
       "      <th>ANIO</th>\n",
       "      <th>ID_CLIENTE</th>\n",
       "      <th>COMUNA</th>\n",
       "      <th>REGION</th>\n",
       "      <th>SEXO</th>\n",
       "      <th>ACTIVIDAD</th>\n",
       "      <th>TASACION</th>\n",
       "      <th>FEC_TRANSFERENCIA</th>\n",
       "      <th>COLOR</th>\n",
       "      <th>EDAD</th>\n",
       "      <th>VIGENCIA</th>\n",
       "    </tr>\n",
       "  </thead>\n",
       "  <tbody>\n",
       "    <tr>\n",
       "      <th>0</th>\n",
       "      <td>393A4B4C-085</td>\n",
       "      <td>TOYOTA</td>\n",
       "      <td>RAV 4</td>\n",
       "      <td>2015</td>\n",
       "      <td>50838335</td>\n",
       "      <td>TEMUCO</td>\n",
       "      <td>9</td>\n",
       "      <td>M</td>\n",
       "      <td>NaN</td>\n",
       "      <td>11947500.0</td>\n",
       "      <td>NaN</td>\n",
       "      <td>BLANCO</td>\n",
       "      <td>NaN</td>\n",
       "      <td>N</td>\n",
       "    </tr>\n",
       "    <tr>\n",
       "      <th>1</th>\n",
       "      <td>B1F3DB7E-F67</td>\n",
       "      <td>MAZDA</td>\n",
       "      <td>CX 5</td>\n",
       "      <td>2016</td>\n",
       "      <td>46322649</td>\n",
       "      <td>VILLA ALEMANA</td>\n",
       "      <td>5</td>\n",
       "      <td>M</td>\n",
       "      <td>NaN</td>\n",
       "      <td>NaN</td>\n",
       "      <td>NaN</td>\n",
       "      <td>NEGRO</td>\n",
       "      <td>38.0</td>\n",
       "      <td>S</td>\n",
       "    </tr>\n",
       "    <tr>\n",
       "      <th>2</th>\n",
       "      <td>F6DBB2E6-A76</td>\n",
       "      <td>GREAT WALL</td>\n",
       "      <td>HAVAL NEW H3 2.0</td>\n",
       "      <td>2014</td>\n",
       "      <td>36226810</td>\n",
       "      <td>ANTOFAGASTA</td>\n",
       "      <td>DE ANTOFAGASTA</td>\n",
       "      <td>NaN</td>\n",
       "      <td>NaN</td>\n",
       "      <td>NaN</td>\n",
       "      <td>NaN</td>\n",
       "      <td>NEGRO</td>\n",
       "      <td>49.0</td>\n",
       "      <td>S</td>\n",
       "    </tr>\n",
       "    <tr>\n",
       "      <th>3</th>\n",
       "      <td>EBCF63CD-99D</td>\n",
       "      <td>JEEP</td>\n",
       "      <td>COMPASS SPORT 2.4</td>\n",
       "      <td>2013</td>\n",
       "      <td>43482783</td>\n",
       "      <td>NaN</td>\n",
       "      <td>NaN</td>\n",
       "      <td>NaN</td>\n",
       "      <td>NaN</td>\n",
       "      <td>NaN</td>\n",
       "      <td>20160418.0</td>\n",
       "      <td>GRIS</td>\n",
       "      <td>40.0</td>\n",
       "      <td>S</td>\n",
       "    </tr>\n",
       "    <tr>\n",
       "      <th>4</th>\n",
       "      <td>FF38B368-B0F</td>\n",
       "      <td>SUBARU</td>\n",
       "      <td>FORESTER 2.0</td>\n",
       "      <td>2017</td>\n",
       "      <td>25657273</td>\n",
       "      <td>NaN</td>\n",
       "      <td>NaN</td>\n",
       "      <td>NaN</td>\n",
       "      <td>NaN</td>\n",
       "      <td>NaN</td>\n",
       "      <td>NaN</td>\n",
       "      <td>GRIS</td>\n",
       "      <td>62.0</td>\n",
       "      <td>S</td>\n",
       "    </tr>\n",
       "  </tbody>\n",
       "</table>\n",
       "</div>"
      ],
      "text/plain": [
       "        PATENTE       MARCA             MODELO  ANIO  ID_CLIENTE  \\\n",
       "0  393A4B4C-085      TOYOTA              RAV 4  2015    50838335   \n",
       "1  B1F3DB7E-F67       MAZDA               CX 5  2016    46322649   \n",
       "2  F6DBB2E6-A76  GREAT WALL   HAVAL NEW H3 2.0  2014    36226810   \n",
       "3  EBCF63CD-99D        JEEP  COMPASS SPORT 2.4  2013    43482783   \n",
       "4  FF38B368-B0F      SUBARU       FORESTER 2.0  2017    25657273   \n",
       "\n",
       "          COMUNA          REGION SEXO  ACTIVIDAD    TASACION  \\\n",
       "0         TEMUCO               9    M        NaN  11947500.0   \n",
       "1  VILLA ALEMANA               5    M        NaN         NaN   \n",
       "2    ANTOFAGASTA  DE ANTOFAGASTA  NaN        NaN         NaN   \n",
       "3            NaN             NaN  NaN        NaN         NaN   \n",
       "4            NaN             NaN  NaN        NaN         NaN   \n",
       "\n",
       "   FEC_TRANSFERENCIA   COLOR  EDAD VIGENCIA  \n",
       "0                NaN  BLANCO   NaN        N  \n",
       "1                NaN   NEGRO  38.0        S  \n",
       "2                NaN   NEGRO  49.0        S  \n",
       "3         20160418.0    GRIS  40.0        S  \n",
       "4                NaN    GRIS  62.0        S  "
      ]
     },
     "execution_count": 3,
     "metadata": {},
     "output_type": "execute_result"
    }
   ],
   "source": [
    "#visualizamos los primeros 5 registros\n",
    "df.head()"
   ]
  },
  {
   "cell_type": "markdown",
   "metadata": {},
   "source": [
    "A simple vista se puede apreciar que existen datos faltantes y que la variable Región tiene la clave y el nombre en sus registros, revisaremos cada variable para ver si es necesario aplicar alguna técnica de limpieza, imputación o correccion en los datos."
   ]
  },
  {
   "cell_type": "code",
   "execution_count": 4,
   "metadata": {},
   "outputs": [
    {
     "data": {
      "text/plain": [
       "(1006969, 14)"
      ]
     },
     "execution_count": 4,
     "metadata": {},
     "output_type": "execute_result"
    }
   ],
   "source": [
    "#dimensión, cuantas filas y columnas tiene el .csv\n",
    "df.shape"
   ]
  },
  {
   "cell_type": "markdown",
   "metadata": {},
   "source": [
    "El archivo contiene 1.006.969 registros con 14 variables, revisaremos en un análisis exploratorio el dataset para ver si contiene datos missing o faltantes, outlaiers o atípicos, etc."
   ]
  },
  {
   "cell_type": "code",
   "execution_count": 5,
   "metadata": {},
   "outputs": [
    {
     "name": "stdout",
     "output_type": "stream",
     "text": [
      "<class 'pandas.core.frame.DataFrame'>\n",
      "RangeIndex: 1006969 entries, 0 to 1006968\n",
      "Data columns (total 14 columns):\n",
      "PATENTE              1006969 non-null object\n",
      "MARCA                1006274 non-null object\n",
      "MODELO               1006675 non-null object\n",
      "ANIO                 1006969 non-null int64\n",
      "ID_CLIENTE           1006969 non-null int64\n",
      "COMUNA               541207 non-null object\n",
      "REGION               561145 non-null object\n",
      "SEXO                 122608 non-null object\n",
      "ACTIVIDAD            197779 non-null float64\n",
      "TASACION             609000 non-null float64\n",
      "FEC_TRANSFERENCIA    341152 non-null float64\n",
      "COLOR                994400 non-null object\n",
      "EDAD                 723490 non-null float64\n",
      "VIGENCIA             1006969 non-null object\n",
      "dtypes: float64(4), int64(2), object(8)\n",
      "memory usage: 107.6+ MB\n"
     ]
    }
   ],
   "source": [
    "#información cada variable\n",
    "df.info()"
   ]
  },
  {
   "cell_type": "markdown",
   "metadata": {},
   "source": [
    "Tenemos variables numéricas (float64 e int64) y categóricas (object), a simple vista se puede apreciar que hay datos missing ya que no todas las variables tienen el total de 1.006.969 registros, a continuación revisaremos cada variable si contiene datos atípicos en forma detallada."
   ]
  },
  {
   "cell_type": "markdown",
   "metadata": {},
   "source": [
    "## 1.1 Datos outliers"
   ]
  },
  {
   "cell_type": "code",
   "execution_count": 6,
   "metadata": {},
   "outputs": [
    {
     "data": {
      "text/html": [
       "<div>\n",
       "<style scoped>\n",
       "    .dataframe tbody tr th:only-of-type {\n",
       "        vertical-align: middle;\n",
       "    }\n",
       "\n",
       "    .dataframe tbody tr th {\n",
       "        vertical-align: top;\n",
       "    }\n",
       "\n",
       "    .dataframe thead th {\n",
       "        text-align: right;\n",
       "    }\n",
       "</style>\n",
       "<table border=\"1\" class=\"dataframe\">\n",
       "  <thead>\n",
       "    <tr style=\"text-align: right;\">\n",
       "      <th></th>\n",
       "      <th>ANIO</th>\n",
       "      <th>ID_CLIENTE</th>\n",
       "      <th>ACTIVIDAD</th>\n",
       "      <th>TASACION</th>\n",
       "      <th>FEC_TRANSFERENCIA</th>\n",
       "      <th>EDAD</th>\n",
       "    </tr>\n",
       "  </thead>\n",
       "  <tbody>\n",
       "    <tr>\n",
       "      <th>count</th>\n",
       "      <td>1006969</td>\n",
       "      <td>1006969</td>\n",
       "      <td>197779</td>\n",
       "      <td>609000</td>\n",
       "      <td>341152</td>\n",
       "      <td>723490</td>\n",
       "    </tr>\n",
       "    <tr>\n",
       "      <th>mean</th>\n",
       "      <td>2014</td>\n",
       "      <td>56500043</td>\n",
       "      <td>0</td>\n",
       "      <td>5826111</td>\n",
       "      <td>20151804</td>\n",
       "      <td>49</td>\n",
       "    </tr>\n",
       "    <tr>\n",
       "      <th>std</th>\n",
       "      <td>2</td>\n",
       "      <td>64398526</td>\n",
       "      <td>0</td>\n",
       "      <td>6472823</td>\n",
       "      <td>16814</td>\n",
       "      <td>13</td>\n",
       "    </tr>\n",
       "    <tr>\n",
       "      <th>min</th>\n",
       "      <td>2010</td>\n",
       "      <td>0</td>\n",
       "      <td>0</td>\n",
       "      <td>0</td>\n",
       "      <td>20091015</td>\n",
       "      <td>3</td>\n",
       "    </tr>\n",
       "    <tr>\n",
       "      <th>25%</th>\n",
       "      <td>2012</td>\n",
       "      <td>29023307</td>\n",
       "      <td>0</td>\n",
       "      <td>0</td>\n",
       "      <td>20140704</td>\n",
       "      <td>39</td>\n",
       "    </tr>\n",
       "    <tr>\n",
       "      <th>50%</th>\n",
       "      <td>2013</td>\n",
       "      <td>40627585</td>\n",
       "      <td>0</td>\n",
       "      <td>5955000</td>\n",
       "      <td>20151202</td>\n",
       "      <td>48</td>\n",
       "    </tr>\n",
       "    <tr>\n",
       "      <th>75%</th>\n",
       "      <td>2015</td>\n",
       "      <td>50742038</td>\n",
       "      <td>0</td>\n",
       "      <td>10000000</td>\n",
       "      <td>20170116</td>\n",
       "      <td>58</td>\n",
       "    </tr>\n",
       "    <tr>\n",
       "      <th>max</th>\n",
       "      <td>2018</td>\n",
       "      <td>329820688</td>\n",
       "      <td>0</td>\n",
       "      <td>91880000</td>\n",
       "      <td>20180111</td>\n",
       "      <td>134</td>\n",
       "    </tr>\n",
       "  </tbody>\n",
       "</table>\n",
       "</div>"
      ],
      "text/plain": [
       "         ANIO  ID_CLIENTE  ACTIVIDAD  TASACION  FEC_TRANSFERENCIA   EDAD\n",
       "count 1006969     1006969     197779    609000             341152 723490\n",
       "mean     2014    56500043          0   5826111           20151804     49\n",
       "std         2    64398526          0   6472823              16814     13\n",
       "min      2010           0          0         0           20091015      3\n",
       "25%      2012    29023307          0         0           20140704     39\n",
       "50%      2013    40627585          0   5955000           20151202     48\n",
       "75%      2015    50742038          0  10000000           20170116     58\n",
       "max      2018   329820688          0  91880000           20180111    134"
      ]
     },
     "execution_count": 6,
     "metadata": {},
     "output_type": "execute_result"
    }
   ],
   "source": [
    "#estadisticos básicos\n",
    "pd.options.display.float_format = '{:.0f}'.format\n",
    "df.describe()"
   ]
  },
  {
   "cell_type": "markdown",
   "metadata": {},
   "source": [
    "Al revisar los estadísticos básicos se puede apreciar que existen valores atípicos en la tasación (el mínimo es 0), igual que en la edad ya que existe una persona con 3 años en el mínimo y 134 años en el máximo. Debemos tener cuidado con la variable Tasación ya que su percentil 25 tiene un monto de tasación 0 por lo que podríamos llegar a conclusiones erróneas.\n",
    "La variable actividad no es relevante ya que tiene 0 en todos sus registros por lo que es dificil que nos entregue información útil, la variable id_cliente me serviría para contar cuantos personas únicas tienen un vehículo o cuantas peronas tienen mas de 1."
   ]
  },
  {
   "cell_type": "code",
   "execution_count": 7,
   "metadata": {},
   "outputs": [],
   "source": [
    "#función para grficar un boxplot\n",
    "def boxPlotGrafico(xcolumn, ycolumn):\n",
    "    sns.set_style('ticks')\n",
    "    fig, ax = plt.subplots()\n",
    "    fig.set_size_inches(11.7, 3)\n",
    "    sns.boxplot( xcolumn, y= ycolumn)"
   ]
  },
  {
   "cell_type": "code",
   "execution_count": 8,
   "metadata": {},
   "outputs": [
    {
     "data": {
      "image/png": "[encoded data removed]",
      "text/plain": [
       "<Figure size 842.4x216 with 1 Axes>"
      ]
     },
     "metadata": {},
     "output_type": "display_data"
    }
   ],
   "source": [
    "#boxplot de edad y vigencia\n",
    "sns.set()\n",
    "boxPlotGrafico( df['EDAD'], df['VIGENCIA'])"
   ]
  },
  {
   "cell_type": "markdown",
   "metadata": {},
   "source": [
    "En el boxplot puedo graficar e interpretar que la variable edad para los que estan vigentes como para los que no estan vigente, tiene datos atípicos (los puntos que están fuera del límite inferior y superior del boxplot) en este caso son personas cercana a 1 y mayores a 85 años. revisaremos en mayor detalle cuantos personas menores de 18 años y mayores de 100 años tengo en mi dataset."
   ]
  },
  {
   "cell_type": "code",
   "execution_count": 9,
   "metadata": {},
   "outputs": [
    {
     "name": "stdout",
     "output_type": "stream",
     "text": [
      "Total de datos atípicos:\n",
      "96\n",
      "\n",
      "% del total en la variable de edad: \n",
      "0.013269015466696154\n"
     ]
    }
   ],
   "source": [
    "print(\"Total de datos atípicos:\") \n",
    "print(df[df['EDAD'] > 100].count()['EDAD']+df[df['EDAD'] < 18].count()['EDAD'] )\n",
    "\n",
    "\n",
    "print(\"\\n% del total en la variable de edad: \")\n",
    "print((df[df['EDAD'] > 100].count()['EDAD']+df[df['EDAD'] < 18].count()['EDAD'])/df['EDAD'].count()*100)"
   ]
  },
  {
   "cell_type": "markdown",
   "metadata": {},
   "source": [
    "Revisando la variable edad, considero como datos atípicos aquellos que tienen menos de 18 años (considerando que no tienen poder adquisitivo para adquirir un vehículo) y mas de 100 años, en total son 96 registros lo que equivale a un 0.013% del total de los registros.\n",
    "Para estos casos imputaremos estos registros ya que posteriormente aplicaremos un algoritmo de agrupación para crear segmentos."
   ]
  },
  {
   "cell_type": "code",
   "execution_count": 10,
   "metadata": {
    "scrolled": true
   },
   "outputs": [
    {
     "data": {
      "image/png": "[encoded data removed]",
      "text/plain": [
       "<Figure size 842.4x216 with 1 Axes>"
      ]
     },
     "metadata": {},
     "output_type": "display_data"
    }
   ],
   "source": [
    "#boxplot tasación\n",
    "boxPlotGrafico( df['TASACION'], df['VIGENCIA'])"
   ]
  },
  {
   "cell_type": "markdown",
   "metadata": {},
   "source": [
    "En el boxplot de la variable tasación muestra que el límite inferior es 0, esto se podría interpretar que son datos no ingresados o faltantes, además tengo datos atípicos por montos superiores a 20 millones en la tasación de los vehículos. esto se podría interpretar que son de alta gama que revisaremos a continuación."
   ]
  },
  {
   "cell_type": "code",
   "execution_count": 11,
   "metadata": {},
   "outputs": [
    {
     "data": {
      "text/html": [
       "<div>\n",
       "<style scoped>\n",
       "    .dataframe tbody tr th:only-of-type {\n",
       "        vertical-align: middle;\n",
       "    }\n",
       "\n",
       "    .dataframe tbody tr th {\n",
       "        vertical-align: top;\n",
       "    }\n",
       "\n",
       "    .dataframe thead th {\n",
       "        text-align: right;\n",
       "    }\n",
       "</style>\n",
       "<table border=\"1\" class=\"dataframe\">\n",
       "  <thead>\n",
       "    <tr style=\"text-align: right;\">\n",
       "      <th></th>\n",
       "      <th>PATENTE</th>\n",
       "      <th>MARCA</th>\n",
       "      <th>MODELO</th>\n",
       "      <th>ANIO</th>\n",
       "      <th>ID_CLIENTE</th>\n",
       "      <th>COMUNA</th>\n",
       "      <th>REGION</th>\n",
       "      <th>SEXO</th>\n",
       "      <th>ACTIVIDAD</th>\n",
       "      <th>TASACION</th>\n",
       "      <th>FEC_TRANSFERENCIA</th>\n",
       "      <th>COLOR</th>\n",
       "      <th>EDAD</th>\n",
       "      <th>VIGENCIA</th>\n",
       "    </tr>\n",
       "  </thead>\n",
       "  <tbody>\n",
       "    <tr>\n",
       "      <th>118141</th>\n",
       "      <td>7F801237-D9F</td>\n",
       "      <td>LAND ROVER</td>\n",
       "      <td>RANGE ROVER 5.0</td>\n",
       "      <td>2016</td>\n",
       "      <td>28604632</td>\n",
       "      <td>NaN</td>\n",
       "      <td>NaN</td>\n",
       "      <td>NaN</td>\n",
       "      <td>nan</td>\n",
       "      <td>85905000</td>\n",
       "      <td>nan</td>\n",
       "      <td>GRIS</td>\n",
       "      <td>57</td>\n",
       "      <td>S</td>\n",
       "    </tr>\n",
       "    <tr>\n",
       "      <th>236108</th>\n",
       "      <td>51CAC5D6-37B</td>\n",
       "      <td>LAND ROVER</td>\n",
       "      <td>RANGE ROVER VOGUE 3.0</td>\n",
       "      <td>2016</td>\n",
       "      <td>25872823</td>\n",
       "      <td>NaN</td>\n",
       "      <td>NaN</td>\n",
       "      <td>NaN</td>\n",
       "      <td>nan</td>\n",
       "      <td>80665000</td>\n",
       "      <td>nan</td>\n",
       "      <td>AZUL</td>\n",
       "      <td>55</td>\n",
       "      <td>S</td>\n",
       "    </tr>\n",
       "    <tr>\n",
       "      <th>326863</th>\n",
       "      <td>7D9A147F-856</td>\n",
       "      <td>LAND ROVER</td>\n",
       "      <td>RANGE ROVER 5.0</td>\n",
       "      <td>2016</td>\n",
       "      <td>20981712</td>\n",
       "      <td>NaN</td>\n",
       "      <td>NaN</td>\n",
       "      <td>NaN</td>\n",
       "      <td>nan</td>\n",
       "      <td>85905000</td>\n",
       "      <td>nan</td>\n",
       "      <td>VERDE</td>\n",
       "      <td>65</td>\n",
       "      <td>S</td>\n",
       "    </tr>\n",
       "    <tr>\n",
       "      <th>421253</th>\n",
       "      <td>15A86808-962</td>\n",
       "      <td>LAND ROVER</td>\n",
       "      <td>RANGE ROVER 4.4</td>\n",
       "      <td>2016</td>\n",
       "      <td>27557369</td>\n",
       "      <td>NaN</td>\n",
       "      <td>NaN</td>\n",
       "      <td>NaN</td>\n",
       "      <td>nan</td>\n",
       "      <td>82240000</td>\n",
       "      <td>nan</td>\n",
       "      <td>GRIS</td>\n",
       "      <td>50</td>\n",
       "      <td>S</td>\n",
       "    </tr>\n",
       "    <tr>\n",
       "      <th>524206</th>\n",
       "      <td>04005394-7B3</td>\n",
       "      <td>LAND ROVER</td>\n",
       "      <td>RANGE ROVER VOGUE 5.0</td>\n",
       "      <td>2016</td>\n",
       "      <td>31938664</td>\n",
       "      <td>NaN</td>\n",
       "      <td>NaN</td>\n",
       "      <td>NaN</td>\n",
       "      <td>nan</td>\n",
       "      <td>91880000</td>\n",
       "      <td>nan</td>\n",
       "      <td>BLANCO</td>\n",
       "      <td>nan</td>\n",
       "      <td>S</td>\n",
       "    </tr>\n",
       "  </tbody>\n",
       "</table>\n",
       "</div>"
      ],
      "text/plain": [
       "             PATENTE       MARCA                 MODELO  ANIO  ID_CLIENTE  \\\n",
       "118141  7F801237-D9F  LAND ROVER        RANGE ROVER 5.0  2016    28604632   \n",
       "236108  51CAC5D6-37B  LAND ROVER  RANGE ROVER VOGUE 3.0  2016    25872823   \n",
       "326863  7D9A147F-856  LAND ROVER        RANGE ROVER 5.0  2016    20981712   \n",
       "421253  15A86808-962  LAND ROVER        RANGE ROVER 4.4  2016    27557369   \n",
       "524206  04005394-7B3  LAND ROVER  RANGE ROVER VOGUE 5.0  2016    31938664   \n",
       "\n",
       "       COMUNA REGION SEXO  ACTIVIDAD  TASACION  FEC_TRANSFERENCIA   COLOR  \\\n",
       "118141    NaN    NaN  NaN        nan  85905000                nan    GRIS   \n",
       "236108    NaN    NaN  NaN        nan  80665000                nan    AZUL   \n",
       "326863    NaN    NaN  NaN        nan  85905000                nan   VERDE   \n",
       "421253    NaN    NaN  NaN        nan  82240000                nan    GRIS   \n",
       "524206    NaN    NaN  NaN        nan  91880000                nan  BLANCO   \n",
       "\n",
       "        EDAD VIGENCIA  \n",
       "118141    57        S  \n",
       "236108    55        S  \n",
       "326863    65        S  \n",
       "421253    50        S  \n",
       "524206   nan        S  "
      ]
     },
     "execution_count": 11,
     "metadata": {},
     "output_type": "execute_result"
    }
   ],
   "source": [
    "df.loc[(df['TASACION'] > 80000000)].head()"
   ]
  },
  {
   "cell_type": "markdown",
   "metadata": {},
   "source": [
    "Los de mas alta tasación son vehículos de marca Land Rover, realizando una pequeña búsqueda en internet puedo comprobar que su monto de venta es similar por lo que su tasación esta correcta según nuestro mercado."
   ]
  },
  {
   "cell_type": "markdown",
   "metadata": {},
   "source": [
    "## 1.2 Datos Missing"
   ]
  },
  {
   "cell_type": "code",
   "execution_count": 12,
   "metadata": {},
   "outputs": [
    {
     "name": "stdout",
     "output_type": "stream",
     "text": [
      "*****La suma de los missing en el dataset es:*****\n",
      "PATENTE                   0\n",
      "MARCA                   695\n",
      "MODELO                  294\n",
      "ANIO                      0\n",
      "ID_CLIENTE                0\n",
      "COMUNA               465762\n",
      "REGION               445824\n",
      "SEXO                 884361\n",
      "ACTIVIDAD            809190\n",
      "TASACION             397969\n",
      "FEC_TRANSFERENCIA    665817\n",
      "COLOR                 12569\n",
      "EDAD                 283479\n",
      "VIGENCIA                  0\n",
      "dtype: int64\n",
      "*****El porcentaje de los missing en el dataset es:*****\n",
      "PATENTE              0\n",
      "MARCA                0\n",
      "MODELO               0\n",
      "ANIO                 0\n",
      "ID_CLIENTE           0\n",
      "COMUNA              46\n",
      "REGION              44\n",
      "SEXO                88\n",
      "ACTIVIDAD           80\n",
      "TASACION            40\n",
      "FEC_TRANSFERENCIA   66\n",
      "COLOR                1\n",
      "EDAD                28\n",
      "VIGENCIA             0\n",
      "dtype: float64\n"
     ]
    }
   ],
   "source": [
    "print(\"*****La suma de los missing en el dataset es:*****\")\n",
    "print(df.isna().sum())\n",
    "\n",
    "print(\"*****El porcentaje de los missing en el dataset es:*****\")\n",
    "print(df.isna().sum() /df.shape[0]*100)"
   ]
  },
  {
   "cell_type": "markdown",
   "metadata": {},
   "source": [
    "En el dataset tiene una gran cantidad de datos missing, por ejemplo la variable sexo un 88% de sus registros estan faltante por lo que no puedo eliminarlos. Para ello se creará una nueva categoría llamada \"No identificado\" y se imputaran todos los faltantes a esta categoría.\n",
    "\n",
    "Para la variable tasación la estrategia de imputación será formar una clave compuesta por Marca, Modelo y Año luego se sacará el promedio de tasación y se llenaran los faltantes en base a esa estrategia, para los que aún permanezcan como faltantes los marcaremos como NaN.\n",
    "\n",
    "Para las variables Edad y los faltates de Tasación la estrategía de imputación será marcar estos valores como NaN, en python estos valores son ignorados por operadores que suman, cuentan, etc. debido a  que es un porcentaje alto es mucho mejor la estrategia de \"marca\", que imputarlos por el promedio, la moda o alguna otra variable que nos lleve a cometer algún error de interpretación en nuestro análisis como por ejemplo la tasación que tiene montos en 0."
   ]
  },
  {
   "cell_type": "code",
   "execution_count": 13,
   "metadata": {},
   "outputs": [],
   "source": [
    "#imputación en base de marca, modelo y año del vehículo\n",
    "df['TASACION']=df.groupby(['MARCA', 'MODELO', 'ANIO'])['TASACION'].apply(lambda x: x.fillna(x.mean()))"
   ]
  },
  {
   "cell_type": "code",
   "execution_count": 14,
   "metadata": {},
   "outputs": [],
   "source": [
    "#Marcamos valores que son cero como missing o NaN y nos aseguramos que todas los valores sean de este tipo\n",
    "df[['EDAD', 'TASACION', 'ACTIVIDAD']] = df[['EDAD', 'TASACION', 'ACTIVIDAD']].replace(0, np.NaN)"
   ]
  },
  {
   "cell_type": "markdown",
   "metadata": {},
   "source": [
    "Para la variable Región en la revisión del dataset tenemos la clave y el nombre, limpiaremos estos registros dejando solo el nombre donde su código de región sea igual."
   ]
  },
  {
   "cell_type": "code",
   "execution_count": 15,
   "metadata": {},
   "outputs": [
    {
     "data": {
      "text/plain": [
       "array(['9', '5', 'DE ANTOFAGASTA', nan,\n",
       "       'DEL LIBERTADOR BERNARDO OHIGGINS', 'METROPOLITANA DE SANTIAGO',\n",
       "       'DEL BIO BIO', '10', '13', '8', 'DE COQUIMBO', '2', '6',\n",
       "       'DE VALPARAISO', '0', '3', 'DE LA ARAUCANIA', 'DE LOS RIOS', '7',\n",
       "       'DEL MAULE', 'DE LOS LAGOS', '4', '1', 'DE ATACAMA',\n",
       "       'DE MAGALLANES Y ANTARTICA CHILENA', '14',\n",
       "       'AYSEN DEL GENERAL CARLOS IBANEZ', '12', 'DE TARAPACA', '15', '11',\n",
       "       'DE ARICA y PARINACOTA'], dtype=object)"
      ]
     },
     "execution_count": 15,
     "metadata": {},
     "output_type": "execute_result"
    }
   ],
   "source": [
    "#registros únicos\n",
    "df['REGION'].unique()"
   ]
  },
  {
   "cell_type": "code",
   "execution_count": 16,
   "metadata": {},
   "outputs": [],
   "source": [
    "#función que evalúa el id de la región\n",
    "\n",
    "def regiones(region):\n",
    "    if region=='1':\n",
    "        return \"DE TARAPACA\"\n",
    "    elif region=='2':\n",
    "        return \"DE ANTOFAGASTA\"\n",
    "    elif region=='3':\n",
    "        return \"DE ATACAMA\"\n",
    "    elif region=='4':\n",
    "        return \"DE COQUIMBO\"\n",
    "    elif region=='5':\n",
    "        return \"DE VALPARAISO\"\n",
    "    elif region=='6':\n",
    "        return \"DEL LIBERTADOR BERNARDO OHIGGINS\"\n",
    "    elif region=='7':\n",
    "        return \"DEL MAULE\"\n",
    "    elif region=='8':\n",
    "        return \"DEL BIO BIO\"\n",
    "    elif region=='9':\n",
    "        return \"DE LA ARAUCANIA\"\n",
    "    elif region=='10':\n",
    "        return \"DE LOS LAGOS\"\n",
    "    elif region=='11':\n",
    "        return \"AYSEN DEL GENERAL CARLOS IBANEZ\"\n",
    "    elif region=='12':\n",
    "        return \"DE MAGALLANES Y ANTARTICA CHILENA\"\n",
    "    elif region=='13':\n",
    "        return \"METROPOLITANA DE SANTIAGO\"\n",
    "    elif region=='14':\n",
    "        return \"DE LOS RIOS\"\n",
    "    elif region=='15':\n",
    "        return \"DE ARICA y PARINACOTA\"\n",
    "    elif region=='0':\n",
    "        return \"No identificado\"\n",
    "    else:\n",
    "      return region"
   ]
  },
  {
   "cell_type": "code",
   "execution_count": 17,
   "metadata": {},
   "outputs": [],
   "source": [
    "#evaluamos la región\n",
    "df['REGION']=df['REGION'].apply(regiones)"
   ]
  },
  {
   "cell_type": "markdown",
   "metadata": {},
   "source": [
    "Para las variables categóricas Marca, Modelo, Comuna, Región (que sigan faltantes), Sexo y Color la estrategía de imputación, al ser un porcentaje significativo de hasta un 88% en la variable sexo, será crear una nueva categoría llamada \"No identificado\""
   ]
  },
  {
   "cell_type": "code",
   "execution_count": 18,
   "metadata": {},
   "outputs": [],
   "source": [
    "#para datos nan\n",
    "df[['MARCA', 'SEXO','MODELO', 'REGION', 'COMUNA', 'ACTIVIDAD' ]] = df[['MARCA', 'SEXO','MODELO',\n",
    "                                                          'REGION', 'COMUNA', 'ACTIVIDAD' ]].replace(np.NaN, 'No identificado')"
   ]
  },
  {
   "cell_type": "markdown",
   "metadata": {},
   "source": [
    "Verificamos que los datos se han imputado."
   ]
  },
  {
   "cell_type": "code",
   "execution_count": 19,
   "metadata": {},
   "outputs": [
    {
     "data": {
      "text/html": [
       "<div>\n",
       "<style scoped>\n",
       "    .dataframe tbody tr th:only-of-type {\n",
       "        vertical-align: middle;\n",
       "    }\n",
       "\n",
       "    .dataframe tbody tr th {\n",
       "        vertical-align: top;\n",
       "    }\n",
       "\n",
       "    .dataframe thead th {\n",
       "        text-align: right;\n",
       "    }\n",
       "</style>\n",
       "<table border=\"1\" class=\"dataframe\">\n",
       "  <thead>\n",
       "    <tr style=\"text-align: right;\">\n",
       "      <th></th>\n",
       "      <th>PATENTE</th>\n",
       "      <th>MARCA</th>\n",
       "      <th>MODELO</th>\n",
       "      <th>ANIO</th>\n",
       "      <th>ID_CLIENTE</th>\n",
       "      <th>COMUNA</th>\n",
       "      <th>REGION</th>\n",
       "      <th>SEXO</th>\n",
       "      <th>ACTIVIDAD</th>\n",
       "      <th>TASACION</th>\n",
       "      <th>FEC_TRANSFERENCIA</th>\n",
       "      <th>COLOR</th>\n",
       "      <th>EDAD</th>\n",
       "      <th>VIGENCIA</th>\n",
       "    </tr>\n",
       "  </thead>\n",
       "  <tbody>\n",
       "    <tr>\n",
       "      <th>0</th>\n",
       "      <td>393A4B4C-085</td>\n",
       "      <td>TOYOTA</td>\n",
       "      <td>RAV 4</td>\n",
       "      <td>2015</td>\n",
       "      <td>50838335</td>\n",
       "      <td>TEMUCO</td>\n",
       "      <td>DE LA ARAUCANIA</td>\n",
       "      <td>M</td>\n",
       "      <td>No identificado</td>\n",
       "      <td>11947500</td>\n",
       "      <td>nan</td>\n",
       "      <td>BLANCO</td>\n",
       "      <td>nan</td>\n",
       "      <td>N</td>\n",
       "    </tr>\n",
       "    <tr>\n",
       "      <th>1</th>\n",
       "      <td>B1F3DB7E-F67</td>\n",
       "      <td>MAZDA</td>\n",
       "      <td>CX 5</td>\n",
       "      <td>2016</td>\n",
       "      <td>46322649</td>\n",
       "      <td>VILLA ALEMANA</td>\n",
       "      <td>DE VALPARAISO</td>\n",
       "      <td>M</td>\n",
       "      <td>No identificado</td>\n",
       "      <td>13537051</td>\n",
       "      <td>nan</td>\n",
       "      <td>NEGRO</td>\n",
       "      <td>38</td>\n",
       "      <td>S</td>\n",
       "    </tr>\n",
       "    <tr>\n",
       "      <th>2</th>\n",
       "      <td>F6DBB2E6-A76</td>\n",
       "      <td>GREAT WALL</td>\n",
       "      <td>HAVAL NEW H3 2.0</td>\n",
       "      <td>2014</td>\n",
       "      <td>36226810</td>\n",
       "      <td>ANTOFAGASTA</td>\n",
       "      <td>DE ANTOFAGASTA</td>\n",
       "      <td>No identificado</td>\n",
       "      <td>No identificado</td>\n",
       "      <td>6150000</td>\n",
       "      <td>nan</td>\n",
       "      <td>NEGRO</td>\n",
       "      <td>49</td>\n",
       "      <td>S</td>\n",
       "    </tr>\n",
       "    <tr>\n",
       "      <th>3</th>\n",
       "      <td>EBCF63CD-99D</td>\n",
       "      <td>JEEP</td>\n",
       "      <td>COMPASS SPORT 2.4</td>\n",
       "      <td>2013</td>\n",
       "      <td>43482783</td>\n",
       "      <td>No identificado</td>\n",
       "      <td>No identificado</td>\n",
       "      <td>No identificado</td>\n",
       "      <td>No identificado</td>\n",
       "      <td>nan</td>\n",
       "      <td>20160418</td>\n",
       "      <td>GRIS</td>\n",
       "      <td>40</td>\n",
       "      <td>S</td>\n",
       "    </tr>\n",
       "    <tr>\n",
       "      <th>4</th>\n",
       "      <td>FF38B368-B0F</td>\n",
       "      <td>SUBARU</td>\n",
       "      <td>FORESTER 2.0</td>\n",
       "      <td>2017</td>\n",
       "      <td>25657273</td>\n",
       "      <td>No identificado</td>\n",
       "      <td>No identificado</td>\n",
       "      <td>No identificado</td>\n",
       "      <td>No identificado</td>\n",
       "      <td>nan</td>\n",
       "      <td>nan</td>\n",
       "      <td>GRIS</td>\n",
       "      <td>62</td>\n",
       "      <td>S</td>\n",
       "    </tr>\n",
       "  </tbody>\n",
       "</table>\n",
       "</div>"
      ],
      "text/plain": [
       "        PATENTE       MARCA             MODELO  ANIO  ID_CLIENTE  \\\n",
       "0  393A4B4C-085      TOYOTA              RAV 4  2015    50838335   \n",
       "1  B1F3DB7E-F67       MAZDA               CX 5  2016    46322649   \n",
       "2  F6DBB2E6-A76  GREAT WALL   HAVAL NEW H3 2.0  2014    36226810   \n",
       "3  EBCF63CD-99D        JEEP  COMPASS SPORT 2.4  2013    43482783   \n",
       "4  FF38B368-B0F      SUBARU       FORESTER 2.0  2017    25657273   \n",
       "\n",
       "            COMUNA           REGION             SEXO        ACTIVIDAD  \\\n",
       "0           TEMUCO  DE LA ARAUCANIA                M  No identificado   \n",
       "1    VILLA ALEMANA    DE VALPARAISO                M  No identificado   \n",
       "2      ANTOFAGASTA   DE ANTOFAGASTA  No identificado  No identificado   \n",
       "3  No identificado  No identificado  No identificado  No identificado   \n",
       "4  No identificado  No identificado  No identificado  No identificado   \n",
       "\n",
       "   TASACION  FEC_TRANSFERENCIA   COLOR  EDAD VIGENCIA  \n",
       "0  11947500                nan  BLANCO   nan        N  \n",
       "1  13537051                nan   NEGRO    38        S  \n",
       "2   6150000                nan   NEGRO    49        S  \n",
       "3       nan           20160418    GRIS    40        S  \n",
       "4       nan                nan    GRIS    62        S  "
      ]
     },
     "execution_count": 19,
     "metadata": {},
     "output_type": "execute_result"
    }
   ],
   "source": [
    "df.head()"
   ]
  },
  {
   "cell_type": "markdown",
   "metadata": {},
   "source": [
    "Nuestro dataframe quedó modificado y ahora realizaremos algunas gráficas, veremos la distribución de las variables númericas con un histograma y para las variables categóricas revisaremos la frecuencia de cada categoría."
   ]
  },
  {
   "cell_type": "markdown",
   "metadata": {},
   "source": [
    "## 1.3 Gráficos"
   ]
  },
  {
   "cell_type": "code",
   "execution_count": 20,
   "metadata": {},
   "outputs": [
    {
     "data": {
      "text/plain": [
       "array([[<matplotlib.axes._subplots.AxesSubplot object at 0x0000023E41C2CEB8>,\n",
       "        <matplotlib.axes._subplots.AxesSubplot object at 0x0000023E411C7E48>],\n",
       "       [<matplotlib.axes._subplots.AxesSubplot object at 0x0000023E41BB0DD8>,\n",
       "        <matplotlib.axes._subplots.AxesSubplot object at 0x0000023E41C9CC50>],\n",
       "       [<matplotlib.axes._subplots.AxesSubplot object at 0x0000023E4116E710>,\n",
       "        <matplotlib.axes._subplots.AxesSubplot object at 0x0000023E4116E748>]],\n",
       "      dtype=object)"
      ]
     },
     "execution_count": 20,
     "metadata": {},
     "output_type": "execute_result"
    },
    {
     "data": {
      "image/png": "[encoded data removed]",
      "text/plain": [
       "<Figure size 1008x1008 with 6 Axes>"
      ]
     },
     "metadata": {},
     "output_type": "display_data"
    }
   ],
   "source": [
    "sns.set()\n",
    "df[df.dtypes[(df.dtypes==\"float64\")|(df.dtypes==\"int64\")].index.values].hist(figsize=[14,14])"
   ]
  },
  {
   "cell_type": "markdown",
   "metadata": {},
   "source": [
    "Se puede apreciar en el histógrama la distribución de las variables, en nuestro estudio del parque automotriz los vehículos del año 2013 son lo aparecen en el punto mas alto del gráfico de \"ANIO\", se aprecia una caída continua en los vehículos de años 2014, 2015 y 2016 repuntando el 2017.\n",
    "\n",
    "El gráfico de \"EDAD\" se aprecia que el punto alto corresponde a la cantidad de personas entre los 40 y 50 años, las colas se encuentran entre los 18-20 años y pasado lo 80 años. La \"FECHA DE TRANSFERENCIA\" se aprecia una escalada creciente a partir del 2010 y en la variable \"TASACION\" se aprecia facilmente que la mayor cantidad se encuentra en vehículos tasados bajo los 20 millones, siendo e punto más alto bajo los 10 millones."
   ]
  },
  {
   "cell_type": "code",
   "execution_count": 21,
   "metadata": {},
   "outputs": [
    {
     "data": {
      "image/png": "[encoded data removed]",
      "text/plain": [
       "<Figure size 1008x720 with 4 Axes>"
      ]
     },
     "metadata": {},
     "output_type": "display_data"
    }
   ],
   "source": [
    "#graficamos las variables categóricas\n",
    "dfCategorial=df[['SEXO', 'VIGENCIA', 'REGION', 'ACTIVIDAD']]\n",
    "fig, axes =plt.subplots(2,2, figsize=(14,10), sharex=True)\n",
    "axes = axes.flatten()\n",
    "object_bol = dfCategorial.dtypes == 'object'\n",
    "for ax, catplot in zip(axes, dfCategorial.dtypes[object_bol].index):\n",
    "    sns.countplot(y=catplot, data=dfCategorial, ax=ax)\n",
    "\n",
    "plt.tight_layout()  \n",
    "plt.show()"
   ]
  },
  {
   "cell_type": "markdown",
   "metadata": {},
   "source": [
    "En los gráficos de barra se aprecia en la variable \"SEXO\" claramente tenemos muchos datos faltantes, así como el total de la variable \"ACTIVIDAD\" tiene un 100% de datos faltantes que imputamos anteriormente.\n",
    "Se aprecia en la variable \"REGION\" que sin considerar los no identificados la que aparece con mayor frequencia es la región Metropolitana de Santiago, seguida de Valparaíso y la región del Bío Bío. también es interesante como los extremo norte y sur del país son la que menos participación tienen el parque automotriz."
   ]
  },
  {
   "cell_type": "markdown",
   "metadata": {},
   "source": [
    "## 2. Análisis de Correspondencia"
   ]
  },
  {
   "cell_type": "markdown",
   "metadata": {},
   "source": [
    "En esta etapa realizaremos un análsis de correspondencia, la cual perteneciente a la familia de técnicas para reducir dimensiones que basicamente nos servirá para poder visualizar diferentes variables cualitativas representadas en un plano en dos dimensiones, la idea es poder ver la posición relativa de unos puntos (de mis variables) tratando de respetar al máximo las posiciones relativas de los puntos en la nube de puntos original."
   ]
  },
  {
   "cell_type": "markdown",
   "metadata": {},
   "source": [
    "Primero como en el análsis anterior la región Metropolitana tiene el mayor peso en el parque automotriz, realizaremos un análisis de Pareto donde revisaremos cuales comunas representan al 80% de los vehículos en la región y es donde primero me enfocaría si tuviera que realizar alguna acción comercial al respecto."
   ]
  },
  {
   "cell_type": "code",
   "execution_count": 22,
   "metadata": {},
   "outputs": [],
   "source": [
    "#pareto\n",
    "df_pareto=df[(df['REGION']=='METROPOLITANA DE SANTIAGO') & (df['COMUNA'] != 'No identificado')]\n",
    "df_pareto=df_pareto.pivot_table(index='COMUNA', values='ANIO', aggfunc='count').sort_values(by='ANIO', ascending=False)\n",
    "df_pareto['pc']= 100*df_pareto['ANIO']/df_pareto['ANIO'].sum()\n",
    "df_pareto['pc_ac']=df_pareto['pc'].cumsum()\n",
    "df_pareto=df_pareto[df_pareto['pc_ac'] <= 80]"
   ]
  },
  {
   "cell_type": "markdown",
   "metadata": {},
   "source": [
    "Continuaremos nuestro análisis exploratorio, para ello vamos a analisar la región metropolitana considerando que tiene el mayor volumen en el parque automotriz y se filtrará por aquellas comunas que quedaron en la categoría No identificadas.\n",
    "Se construirá una tabla con un análisis de pareto por cantidad de vehículos y trabajaremos con aquellas comunas que representan al menos un 80% en el parque automotriz.\n",
    "\n",
    "En la tabla quedara la variable ANIO que es la cantidad de autos, \"pc\" corresponde al porcentaje por comuna y \"pc_ac\" al porcentaje acumulado."
   ]
  },
  {
   "cell_type": "code",
   "execution_count": 23,
   "metadata": {},
   "outputs": [
    {
     "data": {
      "text/html": [
       "<div>\n",
       "<style scoped>\n",
       "    .dataframe tbody tr th:only-of-type {\n",
       "        vertical-align: middle;\n",
       "    }\n",
       "\n",
       "    .dataframe tbody tr th {\n",
       "        vertical-align: top;\n",
       "    }\n",
       "\n",
       "    .dataframe thead th {\n",
       "        text-align: right;\n",
       "    }\n",
       "</style>\n",
       "<table border=\"1\" class=\"dataframe\">\n",
       "  <thead>\n",
       "    <tr style=\"text-align: right;\">\n",
       "      <th></th>\n",
       "      <th>ANIO</th>\n",
       "      <th>pc</th>\n",
       "      <th>pc_ac</th>\n",
       "    </tr>\n",
       "    <tr>\n",
       "      <th>COMUNA</th>\n",
       "      <th></th>\n",
       "      <th></th>\n",
       "      <th></th>\n",
       "    </tr>\n",
       "  </thead>\n",
       "  <tbody>\n",
       "    <tr>\n",
       "      <th>LAS CONDES</th>\n",
       "      <td>45799</td>\n",
       "      <td>15</td>\n",
       "      <td>15</td>\n",
       "    </tr>\n",
       "    <tr>\n",
       "      <th>SANTIAGO</th>\n",
       "      <td>22283</td>\n",
       "      <td>7</td>\n",
       "      <td>23</td>\n",
       "    </tr>\n",
       "    <tr>\n",
       "      <th>PROVIDENCIA</th>\n",
       "      <td>20560</td>\n",
       "      <td>7</td>\n",
       "      <td>29</td>\n",
       "    </tr>\n",
       "    <tr>\n",
       "      <th>MAIPU</th>\n",
       "      <td>18269</td>\n",
       "      <td>6</td>\n",
       "      <td>35</td>\n",
       "    </tr>\n",
       "    <tr>\n",
       "      <th>VITACURA</th>\n",
       "      <td>16752</td>\n",
       "      <td>6</td>\n",
       "      <td>41</td>\n",
       "    </tr>\n",
       "  </tbody>\n",
       "</table>\n",
       "</div>"
      ],
      "text/plain": [
       "              ANIO  pc  pc_ac\n",
       "COMUNA                       \n",
       "LAS CONDES   45799  15     15\n",
       "SANTIAGO     22283   7     23\n",
       "PROVIDENCIA  20560   7     29\n",
       "MAIPU        18269   6     35\n",
       "VITACURA     16752   6     41"
      ]
     },
     "execution_count": 23,
     "metadata": {},
     "output_type": "execute_result"
    }
   ],
   "source": [
    "#almacenamos en la variable lista_comuna las que representan el 80% del parque automotriz\n",
    "lista_comuna=df_pareto.index.tolist()\n",
    "df_pareto[df_pareto['pc_ac'] <= 80].head()"
   ]
  },
  {
   "cell_type": "markdown",
   "metadata": {},
   "source": [
    "Agregaremos una nueva variable en función de las edades. La idea es agrupar por rango de edad para el análisis."
   ]
  },
  {
   "cell_type": "code",
   "execution_count": 24,
   "metadata": {},
   "outputs": [],
   "source": [
    "# Grupo de intervalos según la edad\n",
    "def edad_grupos(series):\n",
    "    if series < 18:\n",
    "        return \"18-25 años\"\n",
    "    elif 26 <= series < 36:\n",
    "        return \"25-35 años\"\n",
    "    elif 36 <= series < 46:\n",
    "        return \"36-45 años\"\n",
    "    elif 46 <= series < 56:\n",
    "        return \"46-55 años\"\n",
    "    elif 56 <= series < 66:\n",
    "        return \"56-65 años\"\n",
    "    elif 66 <= series < 76:\n",
    "        return \"66-75 años\"\n",
    "    elif 76 <= series< 86:\n",
    "        return \"76-85 años\"   \n",
    "    elif 86 <= series <= 100:\n",
    "        return \"86-100 años\""
   ]
  },
  {
   "cell_type": "markdown",
   "metadata": {},
   "source": [
    "Asignaremos variables del dataframe principal df a un dataframe llamado df_ac el cual nos servirá para realizar nuestro análisis de correspondencia."
   ]
  },
  {
   "cell_type": "code",
   "execution_count": 25,
   "metadata": {},
   "outputs": [],
   "source": [
    "#nueva variable\n",
    "df_ac=df[['MARCA','COMUNA', 'REGION', 'SEXO', 'EDAD', 'VIGENCIA', 'COLOR', 'ANIO']]"
   ]
  },
  {
   "cell_type": "markdown",
   "metadata": {},
   "source": [
    "Se creará una nueva variable categórica en base a las edades, la idea es agrupar para contrastarla con alguna otra variable para el análisis."
   ]
  },
  {
   "cell_type": "code",
   "execution_count": 26,
   "metadata": {},
   "outputs": [],
   "source": [
    "#asignamos una nueva variable EDAD_CAT\n",
    "df_ac['EDAD_CAT']=df['EDAD'].apply(edad_grupos)"
   ]
  },
  {
   "cell_type": "markdown",
   "metadata": {},
   "source": [
    "A continuación aplicaremos algún filtro, primero revisaremos solo los vehículos vigentes, luego seleccionaremos algunas de las marcas que comercializa Derco y nos enfocaremos en las comunas con mayores registros de automóviles (el 80% acumulado sacado del análisis de Pareto)."
   ]
  },
  {
   "cell_type": "code",
   "execution_count": 27,
   "metadata": {},
   "outputs": [],
   "source": [
    "#filtros\n",
    "lista_marca = ['SUZUKI', 'MAZDA', 'JAC','GREAT WALL', 'CHANGAN']\n",
    "\n",
    "df_ac=df_ac[(df_ac.MARCA.isin(lista_marca) ) & (df_ac.COMUNA.isin(lista_comuna)) & (df_ac['VIGENCIA']=='S')] "
   ]
  },
  {
   "cell_type": "markdown",
   "metadata": {},
   "source": [
    "Luego creamos una tabla de contingencia donde analizaremos las categorias de edades según la marca."
   ]
  },
  {
   "cell_type": "code",
   "execution_count": 36,
   "metadata": {
    "scrolled": true
   },
   "outputs": [],
   "source": [
    "#tabla pivote\n",
    "tabla_ac=df_ac.pivot_table(values='ANIO', index='MARCA', columns=['EDAD_CAT'], aggfunc='count')"
   ]
  },
  {
   "cell_type": "code",
   "execution_count": 37,
   "metadata": {},
   "outputs": [],
   "source": [
    "tabla_ac=tabla_ac.fillna(0)"
   ]
  },
  {
   "cell_type": "code",
   "execution_count": 38,
   "metadata": {},
   "outputs": [],
   "source": [
    "#importamos el paquete prince y comenzaremos con 2 componentes\n",
    "\n",
    "import prince\n",
    "ca = prince.CA(\n",
    "n_components=2,\n",
    "n_iter=3,\n",
    "copy=True,\n",
    "engine='auto',\n",
    "random_state=42,\n",
    ")"
   ]
  },
  {
   "cell_type": "code",
   "execution_count": 39,
   "metadata": {},
   "outputs": [],
   "source": [
    "va = ca.fit(tabla_ac)"
   ]
  },
  {
   "cell_type": "code",
   "execution_count": 40,
   "metadata": {},
   "outputs": [
    {
     "name": "stdout",
     "output_type": "stream",
     "text": [
      "[0.6894585061806947, 0.3070971505304569]\n"
     ]
    }
   ],
   "source": [
    "#varianza explicada\n",
    "print(va.explained_inertia_ )"
   ]
  },
  {
   "cell_type": "markdown",
   "metadata": {},
   "source": [
    "La varianza explicada es ceracana a un 90% (68% del primer componente y 30% del segundo componente) esto significa el grado de representación de las variables al ser mostradas en un gráfico en dos dimensiones es un fiel reflejo de la realidad que existe en las variables marca y categoría de edad."
   ]
  },
  {
   "cell_type": "code",
   "execution_count": 41,
   "metadata": {},
   "outputs": [],
   "source": [
    "#función grafica el mapa de correspondencia\n",
    "sns.set()\n",
    "def Graf_ac(tabla):\n",
    "    ax = ca.plot_coordinates(\n",
    "    X=tabla,\n",
    "    ax=None,\n",
    "    figsize=(16,10),\n",
    "    x_component=0,\n",
    "    y_component=1,\n",
    "    show_row_labels=True,\n",
    "    show_col_labels=True, \n",
    "    )"
   ]
  },
  {
   "cell_type": "code",
   "execution_count": 42,
   "metadata": {},
   "outputs": [
    {
     "data": {
      "image/png": "[encoded data removed]",
      "text/plain": [
       "<Figure size 1152x720 with 1 Axes>"
      ]
     },
     "metadata": {},
     "output_type": "display_data"
    }
   ],
   "source": [
    "Graf_ac(tabla_ac)"
   ]
  },
  {
   "cell_type": "markdown",
   "metadata": {},
   "source": [
    "El mapa de correspondencia simple se podría interpretar de la siguiente forma:\n",
    "\n",
    "Se puede apreciar que marcas como Changan, Great Wall y JAC son de preferencia por personas que tienen un rango de edad entre los 46 a 55 años, es decir que el procentaje de esas marcas en esos intervalos es significativo.\n",
    "Para Suzuki los rangos de edad donde su porcentaje de participación es sobresaliente, comparado con otras marcas son los intervalos entre 25-35, 66-75 y 76-85 años.\n",
    "Para Mazda se aprecia que el rango de edad que más participación tiene en la marca son personas entre 36 a 45 años.\n",
    "Puntos como el rango 86-100 y 18-25 años no son tan relevante ya que estan alejados de todas las marca por lo que personas entre estos rangos no serían los mejores clientes.\n",
    "Tenemos que tener además consideración que hay una cantidad de registros fuera (los faltantes) ya que quedaron imputados como categoría nan en el proceso previo, quedando excluidos de cualquier tipo de cálculo.\n",
    "\n",
    "Se realizará otro análsis complementario pero esta vez determinaremos las preferencias de las personas según la relación entre comuna y marcas."
   ]
  },
  {
   "cell_type": "code",
   "execution_count": 43,
   "metadata": {},
   "outputs": [],
   "source": [
    "tabla_ac=df_ac.pivot_table(values='ANIO', index='MARCA', columns=['COMUNA'], aggfunc='count')"
   ]
  },
  {
   "cell_type": "code",
   "execution_count": 44,
   "metadata": {},
   "outputs": [],
   "source": [
    "tabla_ac=tabla_ac.fillna(0)"
   ]
  },
  {
   "cell_type": "code",
   "execution_count": 45,
   "metadata": {},
   "outputs": [],
   "source": [
    "import prince\n",
    "ca = prince.CA(\n",
    "n_components=2,\n",
    "n_iter=3,\n",
    "copy=True,\n",
    "engine='auto',\n",
    "random_state=42,\n",
    ")"
   ]
  },
  {
   "cell_type": "code",
   "execution_count": 46,
   "metadata": {},
   "outputs": [],
   "source": [
    "va = ca.fit(tabla_ac)"
   ]
  },
  {
   "cell_type": "code",
   "execution_count": 47,
   "metadata": {},
   "outputs": [
    {
     "name": "stdout",
     "output_type": "stream",
     "text": [
      "[0.9316897540043538, 0.04061499476390669]\n"
     ]
    }
   ],
   "source": [
    "print(va.explained_inertia_ )"
   ]
  },
  {
   "cell_type": "markdown",
   "metadata": {},
   "source": [
    "En este caso la varianza explicada es sobre el 93%, por lo que es una representación fiel de la nube de puntos original."
   ]
  },
  {
   "cell_type": "code",
   "execution_count": 48,
   "metadata": {},
   "outputs": [
    {
     "data": {
      "image/png": "[encoded data removed]",
      "text/plain": [
       "<Figure size 1152x720 with 1 Axes>"
      ]
     },
     "metadata": {},
     "output_type": "display_data"
    }
   ],
   "source": [
    "Graf_ac(tabla_ac)"
   ]
  },
  {
   "cell_type": "markdown",
   "metadata": {},
   "source": [
    "En el mapa de correspondencia se puede apreciar el peso (considerado a nivel porcentual) de las marcas y las comunas más representativas de santiago. por ejemplo comunas como Las Condes, Vitacura y Lo Barnechea Mazda tiene una gran participación.\n",
    "Suzuki tiene una gran representación en comunas como Santiago, Ñuñoa, Providencia, La Florida y La Reina.</p>\n",
    "Las comunas en donde Great Wall tiene una importancia relativa son Puente Alto, Quilicura, Maipú y Pudahuel.</p>\n",
    "Changan se encuentra representada por comunas como La Florida y Puente Alto, finalmente JAC por Pudahuel, San Bernardo y Puente Alto."
   ]
  },
  {
   "cell_type": "markdown",
   "metadata": {},
   "source": [
    "## 3. KModes"
   ]
  },
  {
   "cell_type": "markdown",
   "metadata": {},
   "source": [
    "El siguiente análisis será ver como crear cluster o grupos de personas según algunas variables, utilizando un algoritmo de aprendizaje no supervisado en este caso Kmodes ya que la mayoria de nuestras variables son categóricas usando las modas para representar el centro de los clusters y estas se actualizaran con los valores más frecuentes en cada iteración del proceso.\n",
    "Selecconamos las variables basadas en las que tienen menor cantidad de datos faltantes."
   ]
  },
  {
   "cell_type": "markdown",
   "metadata": {},
   "source": [
    "Se crea un nuevo dataframe llamado df_kmodes las las variables id_cliente (para identificar donde queda agrupado), edad, marca, comuna y color."
   ]
  },
  {
   "cell_type": "code",
   "execution_count": 49,
   "metadata": {},
   "outputs": [],
   "source": [
    "#dataframe kmode\n",
    "df_kmodes=df[['ID_CLIENTE','EDAD' ,'MARCA', 'COMUNA', 'COLOR']]"
   ]
  },
  {
   "cell_type": "code",
   "execution_count": 50,
   "metadata": {},
   "outputs": [],
   "source": [
    "#aplicamos el mismo grupo de edades\n",
    "df_kmodes['EDAD_CAT']=df_kmodes['EDAD'].apply(edad_grupos)"
   ]
  },
  {
   "cell_type": "code",
   "execution_count": 53,
   "metadata": {},
   "outputs": [],
   "source": [
    "#transformamos la variable a un string\n",
    "from kmodes.kmodes import KModes\n",
    "syms = df_kmodes.iloc[:, 0]\n",
    "X = df_kmodes.iloc[:, 2:].apply(lambda x: x.astype('str'))\n",
    "X.loc[X.EDAD_CAT.isin([None, 'Yes', 'No']), 'EDAD_CAT'] = 'Ninguna'"
   ]
  },
  {
   "cell_type": "markdown",
   "metadata": {},
   "source": [
    "Evaluaremos en el gráfico de codo el mejor número de cluster, la idea siempre es trabajar con el menor número pero siempre revisando en el gráfico donde en la contribución exista un quiebre y su representación sea cada vez menor."
   ]
  },
  {
   "cell_type": "code",
   "execution_count": 56,
   "metadata": {},
   "outputs": [
    {
     "name": "stdout",
     "output_type": "stream",
     "text": [
      "K: 1  Costo: [2934876.0]\n",
      "K: 2  Costo: [2934876.0, 2594166.0]\n",
      "K: 3  Costo: [2934876.0, 2594166.0, 2372672.0]\n",
      "K: 4  Costo: [2934876.0, 2594166.0, 2372672.0, 2288420.0]\n",
      "K: 5  Costo: [2934876.0, 2594166.0, 2372672.0, 2288420.0, 2250168.0]\n",
      "K: 6  Costo: [2934876.0, 2594166.0, 2372672.0, 2288420.0, 2250168.0, 2182842.0]\n"
     ]
    },
    {
     "data": {
      "image/png": "[encoded data removed]",
      "text/plain": [
       "<Figure size 720x432 with 1 Axes>"
      ]
     },
     "metadata": {},
     "output_type": "display_data"
    }
   ],
   "source": [
    "#función que gráfica el código con la inercia por cada k cluster\n",
    "i=[]\n",
    "costo=[]\n",
    "for k in range (1,7):\n",
    "    i.append(k)\n",
    "    #creamos un kmodel con k cluster\n",
    "    kmodes_modelo=KModes(n_clusters=k, init='Cao').fit(X.values, categorical=[0,1,2,3])\n",
    "    labels=kmodes_modelo.labels_\n",
    "    costo.append(kmodes_modelo.cost_)\n",
    "    print('K:', k, ' Costo:', costo)\n",
    "    \n",
    "fig=plt.figure()\n",
    "fig.set_size_inches(10, 6)\n",
    "ax=fig.add_subplot(111)\n",
    "ax.plot(i, costo, 'b*-')\n",
    "plt.grid(True)\n",
    "plt.xlabel('Número de clusters')\n",
    "plt.ylabel('Costo')\n",
    "plt.title('Codo Kmodes Clustering')\n",
    "plt.figsize=(13,7)"
   ]
  },
  {
   "cell_type": "markdown",
   "metadata": {},
   "source": [
    "Finalmente utilizaremos 4 cluster que es donde se comienza produce el quiebre en el gráfico y donde la suma de la distancia de los puntos al centroide es cada vez menor, indicando que pueden ser grupos parecidos."
   ]
  },
  {
   "cell_type": "code",
   "execution_count": 57,
   "metadata": {},
   "outputs": [],
   "source": [
    "#resutado final\n",
    "kproto=KModes(n_clusters=4, init='Cao').fit(X.values, categorical=[0,1,2,3])"
   ]
  },
  {
   "cell_type": "code",
   "execution_count": 58,
   "metadata": {},
   "outputs": [],
   "source": [
    "def imprimir_result(centroide, n_cluster):\n",
    "    \n",
    "    print(\"\\n\\nResultado:\")\n",
    "    for i, c in enumerate(centroide):\n",
    "        print('\\tCluster %d' % (i+1))\n",
    "        print('\\tCantidad cliente en el cluster: %d' % n_cluster.count(i))"
   ]
  },
  {
   "cell_type": "markdown",
   "metadata": {},
   "source": [
    "Mostramos la cantidad de personas asignadas a cada cluster"
   ]
  },
  {
   "cell_type": "code",
   "execution_count": 59,
   "metadata": {},
   "outputs": [
    {
     "name": "stdout",
     "output_type": "stream",
     "text": [
      "\n",
      "\n",
      "Resultado:\n",
      "\tCluster 1\n",
      "\tCantidad cliente en el cluster: 510042\n",
      "\tCluster 2\n",
      "\tCantidad cliente en el cluster: 259925\n",
      "\tCluster 3\n",
      "\tCantidad cliente en el cluster: 167628\n",
      "\tCluster 4\n",
      "\tCantidad cliente en el cluster: 69374\n"
     ]
    }
   ],
   "source": [
    "imprimir_result(kproto.cluster_centroids_, kproto.labels_.tolist())"
   ]
  },
  {
   "cell_type": "markdown",
   "metadata": {},
   "source": [
    "Este es un ejemplo de las 10 primeras personas del dataset y el cluster en que quedaron."
   ]
  },
  {
   "cell_type": "code",
   "execution_count": 62,
   "metadata": {},
   "outputs": [
    {
     "name": "stdout",
     "output_type": "stream",
     "text": [
      "2288420.0\n",
      "Id cliente: 50838335, cluster:0\n",
      "Id cliente: 46322649, cluster:1\n",
      "Id cliente: 36226810, cluster:2\n",
      "Id cliente: 43482783, cluster:0\n",
      "Id cliente: 25657273, cluster:0\n",
      "Id cliente: 14210133, cluster:1\n",
      "Id cliente: 21198752, cluster:3\n",
      "Id cliente: 24699069, cluster:1\n",
      "Id cliente: 32883814, cluster:1\n",
      "Id cliente: 23348761, cluster:0\n"
     ]
    }
   ],
   "source": [
    "# Print cluster centroids of the trained model.\n",
    "#print(kproto.cluster_centroids_)\n",
    "# Print training statistics\n",
    "print(kproto.cost_)\n",
    "#print(kproto.n_iter_)\n",
    "\n",
    "for s, c in zip(syms[:10], kproto.labels_):\n",
    "    print(\"Id cliente: {}, cluster:{}\".format(s, c))"
   ]
  },
  {
   "cell_type": "markdown",
   "metadata": {},
   "source": [
    "## 4. Conclusión"
   ]
  },
  {
   "cell_type": "markdown",
   "metadata": {},
   "source": [
    "Al analizar el dataset se encontro que existe una gran cantidad de variables con datos missing o faltantes, esto implica que se necesita imputar estos registros y tener precaución al momento de realizar algún análisis. Para ello lo primero que se realizó fue un análisis exploratorio donde se detecto estos problemas así como los datos atípicos.\n",
    "Luego se realizó un análsis de correspondencia donde podemos ver como se relaciona las edades con marcas comercializadas por derco, así como las comunas donde tienen un peso, esto permite en un estudio inicial categorizar por edad, comuna y marca donde se podría generar posteriormente alguna acción comercial con precios, promociones o descuentos a esas personas identificadas.</p>\n",
    "Se complemento el estudio con una segmentación basada en variables que no tuviesen más de un 35% de datos faltantes, así junto al análisis anterior se obtuvo una base para entender como podría agrupar a mis clientes en base a variables como edad, marca, color y comuna.</p>\n",
    "\n",
    "El escenario ideal o próximo paso sería unir esto con algún dataset para tener una mayor información de cada persona como nivel educacional, estado civil, ingreso, etc. para tener una mejor claridad y calidad al momento de segmentar o aplicar algún otro tipo de algoritmo.\n"
   ]
  }
 ],
 "metadata": {
  "kernelspec": {
   "display_name": "Python 3",
   "language": "python",
   "name": "python3"
  },
  "language_info": {
   "codemirror_mode": {
    "name": "ipython",
    "version": 3
   },
   "file_extension": ".py",
   "mimetype": "text/x-python",
   "name": "python",
   "nbconvert_exporter": "python",
   "pygments_lexer": "ipython3",
   "version": "3.6.5"
  },
  "toc": {
   "nav_menu": {},
   "number_sections": true,
   "sideBar": true,
   "skip_h1_title": true,
   "toc_cell": true,
   "toc_position": {},
   "toc_section_display": "block",
   "toc_window_display": false
  }
 },
 "nbformat": 4,
 "nbformat_minor": 2
}
